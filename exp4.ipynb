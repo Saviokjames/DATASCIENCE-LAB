{
  "nbformat": 4,
  "nbformat_minor": 0,
  "metadata": {
    "colab": {
      "provenance": [],
      "toc_visible": true
    },
    "kernelspec": {
      "name": "python3",
      "display_name": "Python 3"
    },
    "language_info": {
      "name": "python"
    }
  },
  "cells": [
    {
      "cell_type": "code",
      "source": [
        "import pandas as pd\n",
        "import numpy as np\n",
        "from sklearn.model_selection import train_test_split"
      ],
      "metadata": {
        "id": "2o6Qa_Oa1TGp"
      },
      "execution_count": 1,
      "outputs": []
    },
    {
      "cell_type": "code",
      "source": [
        "iris_df= pd.read_csv('iris.csv')"
      ],
      "metadata": {
        "id": "yvy2T0xmKdzN"
      },
      "execution_count": 2,
      "outputs": []
    },
    {
      "cell_type": "code",
      "source": [
        "X=iris_df[['sepal.length', 'sepal.width', 'petal.length', 'petal.width']].values\n",
        "y=iris_df['variety'].values"
      ],
      "metadata": {
        "id": "5cfzmy_3NplN"
      },
      "execution_count": 3,
      "outputs": []
    },
    {
      "cell_type": "code",
      "source": [
        "X_train, X_test, y_train, y_test=train_test_split(X, y, test_size=0.3, random_state=42)"
      ],
      "metadata": {
        "id": "-3RRlSBMOicr"
      },
      "execution_count": 4,
      "outputs": []
    },
    {
      "cell_type": "markdown",
      "source": [
        "KNN CLASSIFIER"
      ],
      "metadata": {
        "id": "Go5Hya8nNLls"
      }
    },
    {
      "cell_type": "code",
      "source": [
        "def knn_predict(X_train, y_train, X_test, k):\n",
        "  predictions=[]\n",
        "  for test_sample in X_test:\n",
        "    distances=[np.sqrt(np.sum((train_sample - test_sample) ** 2)) for train_sample in X_train]\n",
        "    k_indices=np.argsort(distances)[:k]\n",
        "    k_nearest_labels=[y_train[i] for i in k_indices]\n",
        "    class_counts={}\n",
        "    for label in k_nearest_labels:\n",
        "      if label in class_counts:\n",
        "        class_counts[label] += 1\n",
        "      else:\n",
        "        class_counts[label] = 1\n",
        "    most_common=max(class_counts, key=class_counts.get)\n",
        "    predictions.append(most_common)\n",
        "  return predictions\n",
        "k = int(np.sqrt(len(X_train)))\n",
        "y_pred = knn_predict(X_train, y_train, X_test, k)\n",
        "correct = sum(np.array(y_pred) == np.array(y_test))\n",
        "accuracy = (correct / len(y_test)) * 100\n",
        "print(\"Accuracy:\", accuracy)"
      ],
      "metadata": {
        "colab": {
          "base_uri": "https://localhost:8080/"
        },
        "id": "J9dmrM5PWuNG",
        "outputId": "9644d7f7-97c7-4976-e02f-547f96b2a693"
      },
      "execution_count": 5,
      "outputs": [
        {
          "output_type": "stream",
          "name": "stdout",
          "text": [
            "Accuracy: 100.0\n"
          ]
        }
      ]
    },
    {
      "cell_type": "code",
      "source": [
        "k=int(np.sqrt(len(X_train)))"
      ],
      "metadata": {
        "id": "QS9gTVO0lB28"
      },
      "execution_count": 6,
      "outputs": []
    },
    {
      "cell_type": "code",
      "source": [
        "sample_input=[]\n",
        "for i in range(4):\n",
        "      value = float(input(f\"Enter the 1st value: \"))\n",
        "      sample_input.append(value)"
      ],
      "metadata": {
        "colab": {
          "base_uri": "https://localhost:8080/"
        },
        "id": "4NE6Pn47lk6A",
        "outputId": "e98a40bb-e8ec-4c0f-9b09-872085c29cd3"
      },
      "execution_count": 7,
      "outputs": [
        {
          "name": "stdout",
          "output_type": "stream",
          "text": [
            "Enter the 1st value: 5.9\n",
            "Enter the 1st value: 3.5\n",
            "Enter the 1st value: 4.5\n",
            "Enter the 1st value: 2.5\n"
          ]
        }
      ]
    },
    {
      "cell_type": "code",
      "source": [
        "new_pred=knn_predict(X_train,y_train,sample_input,k)\n",
        "print(\"predicted==\",new_pred[0])"
      ],
      "metadata": {
        "colab": {
          "base_uri": "https://localhost:8080/"
        },
        "id": "XqNagsw6lM-r",
        "outputId": "0c0e40f4-4de1-479b-ab4d-5dae0275e838"
      },
      "execution_count": 8,
      "outputs": [
        {
          "output_type": "stream",
          "name": "stdout",
          "text": [
            "predicted== Virginica\n"
          ]
        }
      ]
    }
  ]
}